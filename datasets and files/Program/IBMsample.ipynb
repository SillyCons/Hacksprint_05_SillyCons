{
  "nbformat": 4,
  "nbformat_minor": 0,
  "metadata": {
    "colab": {
      "name": "IBMsample.ipynb",
      "provenance": []
    },
    "kernelspec": {
      "name": "python3",
      "display_name": "Python 3"
    }
  },
  "cells": [
    {
      "cell_type": "code",
      "metadata": {
        "id": "wN8XXCv9Nxk3",
        "colab_type": "code",
        "colab": {
          "base_uri": "https://localhost:8080/",
          "height": 51
        },
        "outputId": "03175773-0eb8-4da2-ea5a-6b9c6e933c84"
      },
      "source": [
        "import numpy as np\n",
        "import pandas as pd\n",
        "import matplotlib.pyplot as plt\n",
        "import seaborn as sns\n",
        "from sklearn.model_selection import train_test_split\n",
        "from sklearn.linear_model import LinearRegression"
      ],
      "execution_count": 1,
      "outputs": [
        {
          "output_type": "stream",
          "text": [
            "/usr/local/lib/python3.6/dist-packages/statsmodels/tools/_testing.py:19: FutureWarning: pandas.util.testing is deprecated. Use the functions in the public API at pandas.testing instead.\n",
            "  import pandas.util.testing as tm\n"
          ],
          "name": "stderr"
        }
      ]
    },
    {
      "cell_type": "code",
      "metadata": {
        "id": "M_f2uyisRMhg",
        "colab_type": "code",
        "colab": {
          "base_uri": "https://localhost:8080/",
          "height": 34
        },
        "outputId": "2cd36f99-5037-43d6-88a4-e3584bd83bf9"
      },
      "source": [
        "from google.colab import drive\n",
        "drive.mount('/content/drive/')"
      ],
      "execution_count": 3,
      "outputs": [
        {
          "output_type": "stream",
          "text": [
            "Mounted at /content/drive/\n"
          ],
          "name": "stdout"
        }
      ]
    },
    {
      "cell_type": "code",
      "metadata": {
        "id": "OWxVttU_R4YB",
        "colab_type": "code",
        "colab": {
          "base_uri": "https://localhost:8080/",
          "height": 34
        },
        "outputId": "66243648-6a29-45fd-9788-364c9d5a8b43"
      },
      "source": [
        "!ls"
      ],
      "execution_count": 4,
      "outputs": [
        {
          "output_type": "stream",
          "text": [
            "drive  sample_data\n"
          ],
          "name": "stdout"
        }
      ]
    },
    {
      "cell_type": "code",
      "metadata": {
        "id": "ZQ-9LoXbTEDo",
        "colab_type": "code",
        "colab": {
          "base_uri": "https://localhost:8080/",
          "height": 204
        },
        "outputId": "36f407f8-f447-41b2-bcc5-9969e6980ea3"
      },
      "source": [
        "ds = pd.read_csv(\"/content/IBM_data.csv\")\n",
        "ds.head()"
      ],
      "execution_count": 7,
      "outputs": [
        {
          "output_type": "execute_result",
          "data": {
            "text/html": [
              "<div>\n",
              "<style scoped>\n",
              "    .dataframe tbody tr th:only-of-type {\n",
              "        vertical-align: middle;\n",
              "    }\n",
              "\n",
              "    .dataframe tbody tr th {\n",
              "        vertical-align: top;\n",
              "    }\n",
              "\n",
              "    .dataframe thead th {\n",
              "        text-align: right;\n",
              "    }\n",
              "</style>\n",
              "<table border=\"1\" class=\"dataframe\">\n",
              "  <thead>\n",
              "    <tr style=\"text-align: right;\">\n",
              "      <th></th>\n",
              "      <th>timestamp</th>\n",
              "      <th>open</th>\n",
              "      <th>high</th>\n",
              "      <th>low</th>\n",
              "      <th>close</th>\n",
              "      <th>adjusted_close</th>\n",
              "      <th>volume</th>\n",
              "      <th>dividend_amount</th>\n",
              "      <th>split_coefficient</th>\n",
              "    </tr>\n",
              "  </thead>\n",
              "  <tbody>\n",
              "    <tr>\n",
              "      <th>0</th>\n",
              "      <td>23-09-2020</td>\n",
              "      <td>120.80</td>\n",
              "      <td>121.59</td>\n",
              "      <td>118.43</td>\n",
              "      <td>118.83</td>\n",
              "      <td>118.83</td>\n",
              "      <td>3939398</td>\n",
              "      <td>0.0</td>\n",
              "      <td>1</td>\n",
              "    </tr>\n",
              "    <tr>\n",
              "      <th>1</th>\n",
              "      <td>22-09-2020</td>\n",
              "      <td>120.33</td>\n",
              "      <td>121.45</td>\n",
              "      <td>119.53</td>\n",
              "      <td>120.51</td>\n",
              "      <td>120.51</td>\n",
              "      <td>2957809</td>\n",
              "      <td>0.0</td>\n",
              "      <td>1</td>\n",
              "    </tr>\n",
              "    <tr>\n",
              "      <th>2</th>\n",
              "      <td>21-09-2020</td>\n",
              "      <td>120.48</td>\n",
              "      <td>120.70</td>\n",
              "      <td>118.58</td>\n",
              "      <td>120.25</td>\n",
              "      <td>120.25</td>\n",
              "      <td>5311441</td>\n",
              "      <td>0.0</td>\n",
              "      <td>1</td>\n",
              "    </tr>\n",
              "    <tr>\n",
              "      <th>3</th>\n",
              "      <td>18-09-2020</td>\n",
              "      <td>124.26</td>\n",
              "      <td>124.92</td>\n",
              "      <td>122.65</td>\n",
              "      <td>122.76</td>\n",
              "      <td>122.76</td>\n",
              "      <td>5391570</td>\n",
              "      <td>0.0</td>\n",
              "      <td>1</td>\n",
              "    </tr>\n",
              "    <tr>\n",
              "      <th>4</th>\n",
              "      <td>17-09-2020</td>\n",
              "      <td>122.62</td>\n",
              "      <td>125.55</td>\n",
              "      <td>121.97</td>\n",
              "      <td>124.92</td>\n",
              "      <td>124.92</td>\n",
              "      <td>3171262</td>\n",
              "      <td>0.0</td>\n",
              "      <td>1</td>\n",
              "    </tr>\n",
              "  </tbody>\n",
              "</table>\n",
              "</div>"
            ],
            "text/plain": [
              "    timestamp    open    high  ...   volume  dividend_amount  split_coefficient\n",
              "0  23-09-2020  120.80  121.59  ...  3939398              0.0                  1\n",
              "1  22-09-2020  120.33  121.45  ...  2957809              0.0                  1\n",
              "2  21-09-2020  120.48  120.70  ...  5311441              0.0                  1\n",
              "3  18-09-2020  124.26  124.92  ...  5391570              0.0                  1\n",
              "4  17-09-2020  122.62  125.55  ...  3171262              0.0                  1\n",
              "\n",
              "[5 rows x 9 columns]"
            ]
          },
          "metadata": {
            "tags": []
          },
          "execution_count": 7
        }
      ]
    },
    {
      "cell_type": "code",
      "metadata": {
        "id": "5Obzc3TvTofD",
        "colab_type": "code",
        "colab": {
          "base_uri": "https://localhost:8080/",
          "height": 34
        },
        "outputId": "6c354a26-5d1b-45aa-ed0c-3fd5a7e4f5b7"
      },
      "source": [
        "ds.shape"
      ],
      "execution_count": 10,
      "outputs": [
        {
          "output_type": "execute_result",
          "data": {
            "text/plain": [
              "(100, 9)"
            ]
          },
          "metadata": {
            "tags": []
          },
          "execution_count": 10
        }
      ]
    },
    {
      "cell_type": "code",
      "metadata": {
        "id": "Ibws8JZLYg8p",
        "colab_type": "code",
        "colab": {
          "base_uri": "https://localhost:8080/",
          "height": 419
        },
        "outputId": "c0478f4b-0999-4372-f115-2207eeb87c08"
      },
      "source": [
        "data.drop()\n"
      ],
      "execution_count": 12,
      "outputs": [
        {
          "output_type": "execute_result",
          "data": {
            "text/html": [
              "<div>\n",
              "<style scoped>\n",
              "    .dataframe tbody tr th:only-of-type {\n",
              "        vertical-align: middle;\n",
              "    }\n",
              "\n",
              "    .dataframe tbody tr th {\n",
              "        vertical-align: top;\n",
              "    }\n",
              "\n",
              "    .dataframe thead th {\n",
              "        text-align: right;\n",
              "    }\n",
              "</style>\n",
              "<table border=\"1\" class=\"dataframe\">\n",
              "  <thead>\n",
              "    <tr style=\"text-align: right;\">\n",
              "      <th></th>\n",
              "      <th>timestamp</th>\n",
              "      <th>open</th>\n",
              "      <th>high</th>\n",
              "    </tr>\n",
              "  </thead>\n",
              "  <tbody>\n",
              "    <tr>\n",
              "      <th>0</th>\n",
              "      <td>23-09-2020</td>\n",
              "      <td>120.80</td>\n",
              "      <td>121.59</td>\n",
              "    </tr>\n",
              "    <tr>\n",
              "      <th>1</th>\n",
              "      <td>22-09-2020</td>\n",
              "      <td>120.33</td>\n",
              "      <td>121.45</td>\n",
              "    </tr>\n",
              "    <tr>\n",
              "      <th>2</th>\n",
              "      <td>21-09-2020</td>\n",
              "      <td>120.48</td>\n",
              "      <td>120.70</td>\n",
              "    </tr>\n",
              "    <tr>\n",
              "      <th>3</th>\n",
              "      <td>18-09-2020</td>\n",
              "      <td>124.26</td>\n",
              "      <td>124.92</td>\n",
              "    </tr>\n",
              "    <tr>\n",
              "      <th>4</th>\n",
              "      <td>17-09-2020</td>\n",
              "      <td>122.62</td>\n",
              "      <td>125.55</td>\n",
              "    </tr>\n",
              "    <tr>\n",
              "      <th>...</th>\n",
              "      <td>...</td>\n",
              "      <td>...</td>\n",
              "      <td>...</td>\n",
              "    </tr>\n",
              "    <tr>\n",
              "      <th>95</th>\n",
              "      <td>08-05-2020</td>\n",
              "      <td>122.67</td>\n",
              "      <td>123.23</td>\n",
              "    </tr>\n",
              "    <tr>\n",
              "      <th>96</th>\n",
              "      <td>07-05-2020</td>\n",
              "      <td>122.98</td>\n",
              "      <td>123.26</td>\n",
              "    </tr>\n",
              "    <tr>\n",
              "      <th>97</th>\n",
              "      <td>06-05-2020</td>\n",
              "      <td>123.24</td>\n",
              "      <td>124.05</td>\n",
              "    </tr>\n",
              "    <tr>\n",
              "      <th>98</th>\n",
              "      <td>05-05-2020</td>\n",
              "      <td>123.39</td>\n",
              "      <td>124.32</td>\n",
              "    </tr>\n",
              "    <tr>\n",
              "      <th>99</th>\n",
              "      <td>04-05-2020</td>\n",
              "      <td>120.82</td>\n",
              "      <td>121.97</td>\n",
              "    </tr>\n",
              "  </tbody>\n",
              "</table>\n",
              "<p>100 rows × 3 columns</p>\n",
              "</div>"
            ],
            "text/plain": [
              "     timestamp    open    high\n",
              "0   23-09-2020  120.80  121.59\n",
              "1   22-09-2020  120.33  121.45\n",
              "2   21-09-2020  120.48  120.70\n",
              "3   18-09-2020  124.26  124.92\n",
              "4   17-09-2020  122.62  125.55\n",
              "..         ...     ...     ...\n",
              "95  08-05-2020  122.67  123.23\n",
              "96  07-05-2020  122.98  123.26\n",
              "97  06-05-2020  123.24  124.05\n",
              "98  05-05-2020  123.39  124.32\n",
              "99  04-05-2020  120.82  121.97\n",
              "\n",
              "[100 rows x 3 columns]"
            ]
          },
          "metadata": {
            "tags": []
          },
          "execution_count": 12
        }
      ]
    },
    {
      "cell_type": "code",
      "metadata": {
        "id": "9_RzyN_leb2J",
        "colab_type": "code",
        "colab": {}
      },
      "source": [
        ""
      ],
      "execution_count": null,
      "outputs": []
    }
  ]
}